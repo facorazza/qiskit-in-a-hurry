{
 "cells": [
  {
   "cell_type": "code",
   "execution_count": null,
   "metadata": {},
   "outputs": [],
   "source": [
    "from math import pi"
   ]
  },
  {
   "cell_type": "code",
   "execution_count": null,
   "metadata": {},
   "outputs": [],
   "source": [
    "from qiskit import *\n",
    "from qiskit.visualization import *\n",
    "from qiskit.tools.monitor import *"
   ]
  },
  {
   "cell_type": "code",
   "execution_count": null,
   "metadata": {},
   "outputs": [],
   "source": [
    "IBMQ.save_account('API_KEY_HERE')\n",
    "provider = IBMQ.load_account()"
   ]
  },
  {
   "cell_type": "code",
   "execution_count": null,
   "metadata": {},
   "outputs": [],
   "source": [
    "qr = QuantumRegister(3)\n",
    "cr = ClassicalRegister(3)\n",
    "circuit = QuantumCircuit(qr, cr)\n",
    "\n",
    "# Pauli gates\n",
    "circuit.x(qr[0])\n",
    "circuit.y(qr[1])\n",
    "# or just\n",
    "circuit.z(2)\n",
    "\n",
    "# Phase\n",
    "circuit.p(pi / 6, [0, 1])\n",
    "\n",
    "# S = T^2\n",
    "circuit.s(2)\n",
    "\n",
    "# Hadamard (on entire Qregister)\n",
    "circuit.h(qr)\n",
    "\n",
    "# Rotations\n",
    "circuit.rx(pi / 3, qr[0])\n",
    "circuit.ry(pi / 3, qr[1])\n",
    "circuit.rz(pi / 3, qr[2])\n",
    "\n",
    "# Controlled ops (some of them)\n",
    "circuit.cx(qr[0], qr[1])\n",
    "circuit.cz(qr[1], qr[2])\n",
    "circuit.ccx(qr[0], qr[1], qr[2])\n",
    "circuit.mcx(control_qubits=[0, 1], target_qubit=qr[2])\n",
    "circuit.fredkin(control_qubit=0, target_qubit1=1, target_qubit2=2)\n",
    "\n",
    "# Swap\n",
    "circuit.swap(0, 1)\n",
    "\n",
    "# Reset qubit to 0 state\n",
    "circuit.reset(0)\n",
    "\n",
    "# Barrier\n",
    "circuit.barrier()\n",
    "\n",
    "# Measurements\n",
    "circuit.measure(qr[0], cr[0])\n",
    "circuit.measure(qr[1], cr[1])\n",
    "circuit.measure(qr[2], cr[2])\n",
    "# or\n",
    "#circuit.measure_all()\n",
    "\n",
    "# Draw the circuit\n",
    "circuit.draw(output=\"mpl\")"
   ]
  },
  {
   "cell_type": "code",
   "execution_count": null,
   "metadata": {},
   "outputs": [],
   "source": [
    "# Show qasm code\n",
    "print(circuit.qasm())"
   ]
  },
  {
   "cell_type": "code",
   "execution_count": null,
   "metadata": {},
   "outputs": [],
   "source": [
    "# Use Aer's qasm_simulator\n",
    "backend = Aer.get_backend('qasm_simulator')\n",
    "# or\n",
    "# Quantum hardware\n",
    "backend = providers.ibmq.least_busy(provider.backends(simulator=False))\n",
    "print(backend)"
   ]
  },
  {
   "cell_type": "code",
   "execution_count": null,
   "metadata": {},
   "outputs": [],
   "source": [
    "try:\n",
    "    # Execute the circuit\n",
    "    job = execute(circuit, backend=backend, shots=1000)\n",
    "    \n",
    "    # Grab results from the job\n",
    "    result = job.result()\n",
    "\n",
    "except providers.ibmq.job.IBMQJobFailureError:\n",
    "    print(job.error_message())\n",
    "\n",
    "else:\n",
    "    # Return counts\n",
    "    counts = result.get_counts(circuit)\n",
    "    print(counts)"
   ]
  },
  {
   "cell_type": "code",
   "execution_count": null,
   "metadata": {},
   "outputs": [],
   "source": [
    "# Plot the histogram\n",
    "plot_histogram(counts)"
   ]
  }
 ],
 "metadata": {
  "kernelspec": {
   "display_name": "Python 3",
   "language": "python",
   "name": "python3"
  },
  "language_info": {
   "codemirror_mode": {
    "name": "ipython",
    "version": 3
   },
   "file_extension": ".py",
   "mimetype": "text/x-python",
   "name": "python",
   "nbconvert_exporter": "python",
   "pygments_lexer": "ipython3",
   "version": "3.8.7"
  }
 },
 "nbformat": 4,
 "nbformat_minor": 4
}
